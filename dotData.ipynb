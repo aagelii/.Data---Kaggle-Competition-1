{
 "cells": [
  {
   "cell_type": "code",
   "execution_count": 1,
   "source": [
    "!pip install kaggle"
   ],
   "outputs": [
    {
     "output_type": "stream",
     "name": "stdout",
     "text": [
      "Collecting kaggle\n",
      "  Downloading kaggle-1.5.12.tar.gz (58 kB)\n",
      "\u001b[K     |████████████████████████████████| 58 kB 4.8 MB/s \n",
      "\u001b[?25hRequirement already satisfied: six>=1.10 in /Users/agelii/opt/miniconda3/envs/dotData1/lib/python3.8/site-packages (from kaggle) (1.16.0)\n",
      "Requirement already satisfied: certifi in /Users/agelii/opt/miniconda3/envs/dotData1/lib/python3.8/site-packages (from kaggle) (2021.10.8)\n",
      "Requirement already satisfied: python-dateutil in /Users/agelii/opt/miniconda3/envs/dotData1/lib/python3.8/site-packages (from kaggle) (2.8.2)\n",
      "Collecting requests\n",
      "  Downloading requests-2.27.1-py2.py3-none-any.whl (63 kB)\n",
      "\u001b[K     |████████████████████████████████| 63 kB 5.8 MB/s \n",
      "\u001b[?25hCollecting tqdm\n",
      "  Downloading tqdm-4.63.0-py2.py3-none-any.whl (76 kB)\n",
      "\u001b[K     |████████████████████████████████| 76 kB 8.0 MB/s \n",
      "\u001b[?25hCollecting python-slugify\n",
      "  Downloading python_slugify-6.1.1-py2.py3-none-any.whl (9.1 kB)\n",
      "Collecting urllib3\n",
      "  Downloading urllib3-1.26.9-py2.py3-none-any.whl (138 kB)\n",
      "\u001b[K     |████████████████████████████████| 138 kB 18.7 MB/s \n",
      "\u001b[?25hCollecting text-unidecode>=1.3\n",
      "  Downloading text_unidecode-1.3-py2.py3-none-any.whl (78 kB)\n",
      "\u001b[K     |████████████████████████████████| 78 kB 16.2 MB/s \n",
      "\u001b[?25hCollecting charset-normalizer~=2.0.0\n",
      "  Downloading charset_normalizer-2.0.12-py3-none-any.whl (39 kB)\n",
      "Collecting idna<4,>=2.5\n",
      "  Using cached idna-3.3-py3-none-any.whl (61 kB)\n",
      "Building wheels for collected packages: kaggle\n",
      "  Building wheel for kaggle (setup.py) ... \u001b[?25ldone\n",
      "\u001b[?25h  Created wheel for kaggle: filename=kaggle-1.5.12-py3-none-any.whl size=73051 sha256=8e4e6e490e8381a1e283e18fec6d924fc54baacf81fa1677f510ee4603acb56f\n",
      "  Stored in directory: /Users/agelii/Library/Caches/pip/wheels/29/da/11/144cc25aebdaeb4931b231e25fd34b394e6a5725cbb2f50106\n",
      "Successfully built kaggle\n",
      "Installing collected packages: urllib3, text-unidecode, idna, charset-normalizer, tqdm, requests, python-slugify, kaggle\n",
      "Successfully installed charset-normalizer-2.0.12 idna-3.3 kaggle-1.5.12 python-slugify-6.1.1 requests-2.27.1 text-unidecode-1.3 tqdm-4.63.0 urllib3-1.26.9\n"
     ]
    }
   ],
   "metadata": {}
  }
 ],
 "metadata": {
  "orig_nbformat": 4,
  "language_info": {
   "name": "python",
   "version": "3.8.12",
   "mimetype": "text/x-python",
   "codemirror_mode": {
    "name": "ipython",
    "version": 3
   },
   "pygments_lexer": "ipython3",
   "nbconvert_exporter": "python",
   "file_extension": ".py"
  },
  "kernelspec": {
   "name": "python3",
   "display_name": "Python 3.8.12 64-bit ('dotData1': conda)"
  },
  "interpreter": {
   "hash": "51c71c982e2dd505736ec01ec8a5877554fd1a47337a8e86e6ccec18ae860355"
  }
 },
 "nbformat": 4,
 "nbformat_minor": 2
}