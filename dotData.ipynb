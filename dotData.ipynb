{
 "cells": [
  {
   "cell_type": "code",
   "execution_count": 3,
   "source": [
    "import numpy as np\n",
    "import pandas as pd\n",
    "# This is the library for the Reservoir Computing got it by: https://github.com/cknd/pyESN\n",
    "from pyESN import ESN\n",
    "from matplotlib import pyplot as plt\n",
    "import seaborn as sns\n",
    "import tensorflow as tf\n",
    "from sklearn.preprocessing import MinMaxScaler\n",
    "from tqdm import tqdm"
   ],
   "outputs": [],
   "metadata": {}
  },
  {
   "cell_type": "code",
   "execution_count": 4,
   "source": [
    "df = pd.read_csv('train.csv', sep=',')\n",
    "\n",
    "df\n"
   ],
   "outputs": [
    {
     "output_type": "execute_result",
     "data": {
      "text/html": [
       "<div>\n",
       "<style scoped>\n",
       "    .dataframe tbody tr th:only-of-type {\n",
       "        vertical-align: middle;\n",
       "    }\n",
       "\n",
       "    .dataframe tbody tr th {\n",
       "        vertical-align: top;\n",
       "    }\n",
       "\n",
       "    .dataframe thead th {\n",
       "        text-align: right;\n",
       "    }\n",
       "</style>\n",
       "<table border=\"1\" class=\"dataframe\">\n",
       "  <thead>\n",
       "    <tr style=\"text-align: right;\">\n",
       "      <th></th>\n",
       "      <th>Unnamed: 0</th>\n",
       "      <th>Date</th>\n",
       "      <th>Close/Last</th>\n",
       "      <th>Volume</th>\n",
       "      <th>Open</th>\n",
       "      <th>High</th>\n",
       "      <th>Low</th>\n",
       "      <th>NextOpen</th>\n",
       "      <th>Company</th>\n",
       "      <th>ID</th>\n",
       "    </tr>\n",
       "  </thead>\n",
       "  <tbody>\n",
       "    <tr>\n",
       "      <th>0</th>\n",
       "      <td>4121</td>\n",
       "      <td>2/17/17</td>\n",
       "      <td>$133.53</td>\n",
       "      <td>12265480</td>\n",
       "      <td>$133.50</td>\n",
       "      <td>$134.09</td>\n",
       "      <td>$133.17</td>\n",
       "      <td>$133.50</td>\n",
       "      <td>SHARE B</td>\n",
       "      <td>4121</td>\n",
       "    </tr>\n",
       "    <tr>\n",
       "      <th>1</th>\n",
       "      <td>2013</td>\n",
       "      <td>3/11/19</td>\n",
       "      <td>$1,670.62</td>\n",
       "      <td>3797298</td>\n",
       "      <td>$1,626.12</td>\n",
       "      <td>$1,672.29</td>\n",
       "      <td>$1,626.01</td>\n",
       "      <td>$1,669</td>\n",
       "      <td>SHARE C</td>\n",
       "      <td>2013</td>\n",
       "    </tr>\n",
       "    <tr>\n",
       "      <th>2</th>\n",
       "      <td>6016</td>\n",
       "      <td>7/29/16</td>\n",
       "      <td>$26.05</td>\n",
       "      <td>110791880</td>\n",
       "      <td>$26.05</td>\n",
       "      <td>$26.14</td>\n",
       "      <td>$25.92</td>\n",
       "      <td>$26.10</td>\n",
       "      <td>SHARE D</td>\n",
       "      <td>6016</td>\n",
       "    </tr>\n",
       "    <tr>\n",
       "      <th>3</th>\n",
       "      <td>13054</td>\n",
       "      <td>6/16/16</td>\n",
       "      <td>$11.89</td>\n",
       "      <td>24626072</td>\n",
       "      <td>$11.75</td>\n",
       "      <td>$11.91</td>\n",
       "      <td>$11.64</td>\n",
       "      <td>$11.90</td>\n",
       "      <td>Company H</td>\n",
       "      <td>13054</td>\n",
       "    </tr>\n",
       "    <tr>\n",
       "      <th>4</th>\n",
       "      <td>3053</td>\n",
       "      <td>5/18/21</td>\n",
       "      <td>$309.96</td>\n",
       "      <td>14522400</td>\n",
       "      <td>$315.59</td>\n",
       "      <td>$316.50</td>\n",
       "      <td>$309.81</td>\n",
       "      <td>$304.19</td>\n",
       "      <td>SHARE B</td>\n",
       "      <td>3053</td>\n",
       "    </tr>\n",
       "    <tr>\n",
       "      <th>...</th>\n",
       "      <td>...</td>\n",
       "      <td>...</td>\n",
       "      <td>...</td>\n",
       "      <td>...</td>\n",
       "      <td>...</td>\n",
       "      <td>...</td>\n",
       "      <td>...</td>\n",
       "      <td>...</td>\n",
       "      <td>...</td>\n",
       "      <td>...</td>\n",
       "    </tr>\n",
       "    <tr>\n",
       "      <th>11679</th>\n",
       "      <td>9225</td>\n",
       "      <td>1/23/18</td>\n",
       "      <td>$91.90</td>\n",
       "      <td>23014000</td>\n",
       "      <td>$91.90</td>\n",
       "      <td>$92.30</td>\n",
       "      <td>$91.54</td>\n",
       "      <td>$92.55</td>\n",
       "      <td>SHARE F</td>\n",
       "      <td>9225</td>\n",
       "    </tr>\n",
       "    <tr>\n",
       "      <th>11680</th>\n",
       "      <td>13123</td>\n",
       "      <td>3/9/16</td>\n",
       "      <td>$7.93</td>\n",
       "      <td>22278412</td>\n",
       "      <td>$8.01</td>\n",
       "      <td>$8.02</td>\n",
       "      <td>$7.83</td>\n",
       "      <td>$7.98</td>\n",
       "      <td>Company H</td>\n",
       "      <td>13123</td>\n",
       "    </tr>\n",
       "    <tr>\n",
       "      <th>11681</th>\n",
       "      <td>9845</td>\n",
       "      <td>8/6/15</td>\n",
       "      <td>$46.62</td>\n",
       "      <td>27344040</td>\n",
       "      <td>$47.71</td>\n",
       "      <td>$47.77</td>\n",
       "      <td>$46.33</td>\n",
       "      <td>$46.39</td>\n",
       "      <td>SHARE F</td>\n",
       "      <td>9845</td>\n",
       "    </tr>\n",
       "    <tr>\n",
       "      <th>11682</th>\n",
       "      <td>10799</td>\n",
       "      <td>10/26/18</td>\n",
       "      <td>$66.18</td>\n",
       "      <td>136901100</td>\n",
       "      <td>$61.65</td>\n",
       "      <td>$67.98</td>\n",
       "      <td>$61.33</td>\n",
       "      <td>$67.49</td>\n",
       "      <td>SHARE G</td>\n",
       "      <td>10799</td>\n",
       "    </tr>\n",
       "    <tr>\n",
       "      <th>11683</th>\n",
       "      <td>2732</td>\n",
       "      <td>4/29/16</td>\n",
       "      <td>$659.59</td>\n",
       "      <td>10303510</td>\n",
       "      <td>$666</td>\n",
       "      <td>$669.98</td>\n",
       "      <td>$654</td>\n",
       "      <td>$663.92</td>\n",
       "      <td>SHARE C</td>\n",
       "      <td>2732</td>\n",
       "    </tr>\n",
       "  </tbody>\n",
       "</table>\n",
       "<p>11684 rows × 10 columns</p>\n",
       "</div>"
      ],
      "text/plain": [
       "       Unnamed: 0      Date  Close/Last     Volume        Open        High  \\\n",
       "0            4121   2/17/17    $133.53    12265480    $133.50     $134.09    \n",
       "1            2013   3/11/19  $1,670.62     3797298  $1,626.12   $1,672.29    \n",
       "2            6016   7/29/16     $26.05   110791880     $26.05      $26.14    \n",
       "3           13054   6/16/16     $11.89    24626072     $11.75      $11.91    \n",
       "4            3053   5/18/21    $309.96    14522400    $315.59     $316.50    \n",
       "...           ...       ...         ...        ...         ...         ...   \n",
       "11679        9225   1/23/18     $91.90    23014000     $91.90      $92.30    \n",
       "11680       13123    3/9/16      $7.93    22278412      $8.01       $8.02    \n",
       "11681        9845    8/6/15     $46.62    27344040     $47.71      $47.77    \n",
       "11682       10799  10/26/18     $66.18   136901100     $61.65      $67.98    \n",
       "11683        2732   4/29/16    $659.59    10303510       $666     $669.98    \n",
       "\n",
       "              Low  NextOpen    Company     ID  \n",
       "0        $133.17   $133.50     SHARE B   4121  \n",
       "1      $1,626.01    $1,669     SHARE C   2013  \n",
       "2         $25.92    $26.10     SHARE D   6016  \n",
       "3         $11.64    $11.90   Company H  13054  \n",
       "4        $309.81   $304.19     SHARE B   3053  \n",
       "...           ...       ...        ...    ...  \n",
       "11679     $91.54    $92.55     SHARE F   9225  \n",
       "11680      $7.83     $7.98   Company H  13123  \n",
       "11681     $46.33    $46.39     SHARE F   9845  \n",
       "11682     $61.33    $67.49     SHARE G  10799  \n",
       "11683       $654   $663.92     SHARE C   2732  \n",
       "\n",
       "[11684 rows x 10 columns]"
      ]
     },
     "metadata": {},
     "execution_count": 4
    }
   ],
   "metadata": {}
  },
  {
   "cell_type": "code",
   "execution_count": 5,
   "source": [
    "df = pd.read_csv('train.csv', sep=',')\n",
    "\n",
    "cols = [\"Close/Last\", \"Open\", \"High\", \"Low\", \"NextOpen\"]\n",
    "df[cols] = df[cols].replace({'\\$': '', ' ': '', ',': ''}, regex=True) # removes $ , and spaces\n",
    "# stocks = df.sort_values(by = [8, 9], kind = \"mergesort\") # sorts by company --> by id\n",
    "# stocks = stocks.to_numpy()\n",
    "#print(df.head())\n",
    "df = df.apply(pd.to_numeric, errors='ignore', downcast='float')\n",
    "\n",
    "stocks = df.sort_values(by = [\"Company\"], kind = \"mergesort\") "
   ],
   "outputs": [],
   "metadata": {}
  },
  {
   "cell_type": "code",
   "execution_count": 7,
   "source": [
    "n_reservoir = 500\n",
    "sparsity = 0.2\n",
    "rand_seed = 23\n",
    "spectral_radius = 1.2\n",
    "noise = .0005\n",
    "\n",
    "\n",
    "esn = ESN(n_inputs = 1,\n",
    "      n_outputs = 1, \n",
    "      n_reservoir = n_reservoir,\n",
    "      sparsity = sparsity,\n",
    "      random_state = rand_seed,\n",
    "      spectral_radius = spectral_radius,\n",
    "      noise = noise)"
   ],
   "outputs": [],
   "metadata": {}
  },
  {
   "cell_type": "code",
   "execution_count": 8,
   "source": [
    "stonk = [] # list of data frames 0-9 for 10 companies\n",
    "company_list = [] # list of companies (10)\n",
    "# company_list=stocks['Company'].unique().tolist()\n",
    "\n",
    "for company, stockCompany in stocks.groupby('Company'):\n",
    "    company_list.append(company)\n",
    "    stonk.append(stockCompany)"
   ],
   "outputs": [],
   "metadata": {}
  },
  {
   "cell_type": "code",
   "execution_count": 74,
   "source": [
    "trainlen = 1000\n",
    "future = 1\n",
    "futureTotal = 100\n",
    "pred_tot = np.zeros(futureTotal)"
   ],
   "outputs": [],
   "metadata": {}
  },
  {
   "cell_type": "code",
   "execution_count": 78,
   "source": [
    "for i in stonk:\n",
    "    i['Date'] = pd.to_datetime(i['Date'])\n",
    "    i['Date'] = i['Date'].dt.strftime('%Y-%m-%d')\n",
    "    i = i.iloc[:, 1:]\n",
    "    i = i.sort_values(by = 'Date')\n",
    "    i = i.set_index('Date')\n",
    "# stonk"
   ],
   "outputs": [],
   "metadata": {}
  },
  {
   "cell_type": "code",
   "execution_count": 10,
   "source": [
    "companyH = stonk[0] # company H\n",
    "companyH['Date'] = pd.to_datetime(companyH['Date'])\n",
    "companyH['Date'] = companyH['Date'].dt.strftime('%Y-%m-%d')\n",
    "companyH = companyH.iloc[:, 1:]\n",
    "companyH = companyH.sort_values(by = 'Date')\n",
    "companyH = companyH.set_index('Date')\n",
    "companyH"
   ],
   "outputs": [
    {
     "output_type": "execute_result",
     "data": {
      "text/html": [
       "<div>\n",
       "<style scoped>\n",
       "    .dataframe tbody tr th:only-of-type {\n",
       "        vertical-align: middle;\n",
       "    }\n",
       "\n",
       "    .dataframe tbody tr th {\n",
       "        vertical-align: top;\n",
       "    }\n",
       "\n",
       "    .dataframe thead th {\n",
       "        text-align: right;\n",
       "    }\n",
       "</style>\n",
       "<table border=\"1\" class=\"dataframe\">\n",
       "  <thead>\n",
       "    <tr style=\"text-align: right;\">\n",
       "      <th></th>\n",
       "      <th>Close/Last</th>\n",
       "      <th>Volume</th>\n",
       "      <th>Open</th>\n",
       "      <th>High</th>\n",
       "      <th>Low</th>\n",
       "      <th>NextOpen</th>\n",
       "      <th>Company</th>\n",
       "      <th>ID</th>\n",
       "    </tr>\n",
       "    <tr>\n",
       "      <th>Date</th>\n",
       "      <th></th>\n",
       "      <th></th>\n",
       "      <th></th>\n",
       "      <th></th>\n",
       "      <th></th>\n",
       "      <th></th>\n",
       "      <th></th>\n",
       "      <th></th>\n",
       "    </tr>\n",
       "  </thead>\n",
       "  <tbody>\n",
       "    <tr>\n",
       "      <th>2015-09-25</th>\n",
       "      <td>5.900000</td>\n",
       "      <td>36968272.0</td>\n",
       "      <td>5.930000</td>\n",
       "      <td>6.020000</td>\n",
       "      <td>5.850000</td>\n",
       "      <td>5.90</td>\n",
       "      <td>Company H</td>\n",
       "      <td>13236.0</td>\n",
       "    </tr>\n",
       "    <tr>\n",
       "      <th>2015-09-29</th>\n",
       "      <td>5.930000</td>\n",
       "      <td>38067892.0</td>\n",
       "      <td>5.890000</td>\n",
       "      <td>5.940000</td>\n",
       "      <td>5.810000</td>\n",
       "      <td>5.98</td>\n",
       "      <td>Company H</td>\n",
       "      <td>13234.0</td>\n",
       "    </tr>\n",
       "    <tr>\n",
       "      <th>2015-09-30</th>\n",
       "      <td>6.160000</td>\n",
       "      <td>55634440.0</td>\n",
       "      <td>5.980000</td>\n",
       "      <td>6.170000</td>\n",
       "      <td>5.950000</td>\n",
       "      <td>6.16</td>\n",
       "      <td>Company H</td>\n",
       "      <td>13233.0</td>\n",
       "    </tr>\n",
       "    <tr>\n",
       "      <th>2015-10-01</th>\n",
       "      <td>6.040000</td>\n",
       "      <td>48832120.0</td>\n",
       "      <td>6.160000</td>\n",
       "      <td>6.180000</td>\n",
       "      <td>5.870000</td>\n",
       "      <td>6.01</td>\n",
       "      <td>Company H</td>\n",
       "      <td>13232.0</td>\n",
       "    </tr>\n",
       "    <tr>\n",
       "      <th>2015-10-02</th>\n",
       "      <td>6.200000</td>\n",
       "      <td>38611520.0</td>\n",
       "      <td>6.010000</td>\n",
       "      <td>6.200000</td>\n",
       "      <td>5.950000</td>\n",
       "      <td>6.24</td>\n",
       "      <td>Company H</td>\n",
       "      <td>13231.0</td>\n",
       "    </tr>\n",
       "    <tr>\n",
       "      <th>...</th>\n",
       "      <td>...</td>\n",
       "      <td>...</td>\n",
       "      <td>...</td>\n",
       "      <td>...</td>\n",
       "      <td>...</td>\n",
       "      <td>...</td>\n",
       "      <td>...</td>\n",
       "      <td>...</td>\n",
       "    </tr>\n",
       "    <tr>\n",
       "      <th>2022-02-18</th>\n",
       "      <td>236.419998</td>\n",
       "      <td>76125488.0</td>\n",
       "      <td>246.679993</td>\n",
       "      <td>249.860001</td>\n",
       "      <td>231.000000</td>\n",
       "      <td>230.35</td>\n",
       "      <td>Company H</td>\n",
       "      <td>11624.0</td>\n",
       "    </tr>\n",
       "    <tr>\n",
       "      <th>2022-02-23</th>\n",
       "      <td>223.869995</td>\n",
       "      <td>56651080.0</td>\n",
       "      <td>238.020004</td>\n",
       "      <td>241.550003</td>\n",
       "      <td>223.009995</td>\n",
       "      <td>210.15</td>\n",
       "      <td>Company H</td>\n",
       "      <td>11622.0</td>\n",
       "    </tr>\n",
       "    <tr>\n",
       "      <th>2022-02-25</th>\n",
       "      <td>241.570007</td>\n",
       "      <td>52886552.0</td>\n",
       "      <td>237.210007</td>\n",
       "      <td>242.169998</td>\n",
       "      <td>233.809998</td>\n",
       "      <td>239.92</td>\n",
       "      <td>Company H</td>\n",
       "      <td>11620.0</td>\n",
       "    </tr>\n",
       "    <tr>\n",
       "      <th>2022-03-03</th>\n",
       "      <td>237.139999</td>\n",
       "      <td>36509500.0</td>\n",
       "      <td>242.619995</td>\n",
       "      <td>243.259995</td>\n",
       "      <td>234.690002</td>\n",
       "      <td>233.84</td>\n",
       "      <td>Company H</td>\n",
       "      <td>11616.0</td>\n",
       "    </tr>\n",
       "    <tr>\n",
       "      <th>2022-03-04</th>\n",
       "      <td>229.360001</td>\n",
       "      <td>43201072.0</td>\n",
       "      <td>233.839996</td>\n",
       "      <td>236.800003</td>\n",
       "      <td>224.820007</td>\n",
       "      <td>228.17</td>\n",
       "      <td>Company H</td>\n",
       "      <td>11615.0</td>\n",
       "    </tr>\n",
       "  </tbody>\n",
       "</table>\n",
       "<p>1094 rows × 8 columns</p>\n",
       "</div>"
      ],
      "text/plain": [
       "            Close/Last      Volume        Open        High         Low  \\\n",
       "Date                                                                     \n",
       "2015-09-25    5.900000  36968272.0    5.930000    6.020000    5.850000   \n",
       "2015-09-29    5.930000  38067892.0    5.890000    5.940000    5.810000   \n",
       "2015-09-30    6.160000  55634440.0    5.980000    6.170000    5.950000   \n",
       "2015-10-01    6.040000  48832120.0    6.160000    6.180000    5.870000   \n",
       "2015-10-02    6.200000  38611520.0    6.010000    6.200000    5.950000   \n",
       "...                ...         ...         ...         ...         ...   \n",
       "2022-02-18  236.419998  76125488.0  246.679993  249.860001  231.000000   \n",
       "2022-02-23  223.869995  56651080.0  238.020004  241.550003  223.009995   \n",
       "2022-02-25  241.570007  52886552.0  237.210007  242.169998  233.809998   \n",
       "2022-03-03  237.139999  36509500.0  242.619995  243.259995  234.690002   \n",
       "2022-03-04  229.360001  43201072.0  233.839996  236.800003  224.820007   \n",
       "\n",
       "           NextOpen    Company       ID  \n",
       "Date                                     \n",
       "2015-09-25     5.90  Company H  13236.0  \n",
       "2015-09-29     5.98  Company H  13234.0  \n",
       "2015-09-30     6.16  Company H  13233.0  \n",
       "2015-10-01     6.01  Company H  13232.0  \n",
       "2015-10-02     6.24  Company H  13231.0  \n",
       "...             ...        ...      ...  \n",
       "2022-02-18   230.35  Company H  11624.0  \n",
       "2022-02-23   210.15  Company H  11622.0  \n",
       "2022-02-25   239.92  Company H  11620.0  \n",
       "2022-03-03   233.84  Company H  11616.0  \n",
       "2022-03-04   228.17  Company H  11615.0  \n",
       "\n",
       "[1094 rows x 8 columns]"
      ]
     },
     "metadata": {},
     "execution_count": 10
    }
   ],
   "metadata": {}
  },
  {
   "cell_type": "code",
   "execution_count": null,
   "source": [],
   "outputs": [],
   "metadata": {}
  },
  {
   "cell_type": "code",
   "execution_count": 11,
   "source": [
    "companyH.info()"
   ],
   "outputs": [
    {
     "output_type": "stream",
     "name": "stdout",
     "text": [
      "<class 'pandas.core.frame.DataFrame'>\n",
      "Index: 1094 entries, 2015-09-25 to 2022-03-04\n",
      "Data columns (total 8 columns):\n",
      " #   Column      Non-Null Count  Dtype  \n",
      "---  ------      --------------  -----  \n",
      " 0   Close/Last  1094 non-null   float32\n",
      " 1   Volume      1094 non-null   float32\n",
      " 2   Open        1094 non-null   float32\n",
      " 3   High        1094 non-null   float32\n",
      " 4   Low         1094 non-null   float32\n",
      " 5   NextOpen    1094 non-null   object \n",
      " 6   Company     1094 non-null   object \n",
      " 7   ID          1094 non-null   float32\n",
      "dtypes: float32(6), object(2)\n",
      "memory usage: 51.3+ KB\n"
     ]
    }
   ],
   "metadata": {}
  },
  {
   "cell_type": "code",
   "execution_count": 12,
   "source": [
    "companyH.isna().any()"
   ],
   "outputs": [
    {
     "output_type": "execute_result",
     "data": {
      "text/plain": [
       "Close/Last    False\n",
       "Volume        False\n",
       "Open          False\n",
       "High          False\n",
       "Low           False\n",
       "NextOpen      False\n",
       "Company       False\n",
       "ID            False\n",
       "dtype: bool"
      ]
     },
     "metadata": {},
     "execution_count": 12
    }
   ],
   "metadata": {}
  },
  {
   "cell_type": "code",
   "execution_count": 79,
   "source": [
    "companyH['Open'].plot(figsize=(16,6))"
   ],
   "outputs": [
    {
     "output_type": "execute_result",
     "data": {
      "text/plain": [
       "<AxesSubplot:xlabel='Date'>"
      ]
     },
     "metadata": {},
     "execution_count": 79
    },
    {
     "output_type": "display_data",
     "data": {
      "image/png": "[encoded data removed]",
      "text/plain": [
       "<Figure size 1152x432 with 1 Axes>"
      ]
     },
     "metadata": {
      "needs_background": "light"
     }
    }
   ],
   "metadata": {}
  },
  {
   "cell_type": "code",
   "execution_count": 14,
   "source": [
    "companyH_training_set = companyH['Open']\n",
    "companyH_training_set = pd.DataFrame(companyH_training_set)"
   ],
   "outputs": [],
   "metadata": {}
  },
  {
   "cell_type": "code",
   "execution_count": 15,
   "source": [
    "companyH.isna().any()"
   ],
   "outputs": [
    {
     "output_type": "execute_result",
     "data": {
      "text/plain": [
       "Close/Last    False\n",
       "Volume        False\n",
       "Open          False\n",
       "High          False\n",
       "Low           False\n",
       "NextOpen      False\n",
       "Company       False\n",
       "ID            False\n",
       "dtype: bool"
      ]
     },
     "metadata": {},
     "execution_count": 15
    }
   ],
   "metadata": {}
  },
  {
   "cell_type": "code",
   "execution_count": 16,
   "source": [
    "from sklearn.preprocessing import MinMaxScaler\n",
    "sc = MinMaxScaler(feature_range=(0, 1))\n",
    "scaled_training_set = sc.fit_transform(companyH_training_set)"
   ],
   "outputs": [],
   "metadata": {}
  },
  {
   "cell_type": "code",
   "execution_count": 66,
   "source": [
    "scaled_training_set"
   ],
   "outputs": [
    {
     "output_type": "execute_result",
     "data": {
      "text/plain": [
       "array([[1.2147613e-04],\n",
       "       [0.0000000e+00],\n",
       "       [2.7332455e-04],\n",
       "       ...,\n",
       "       [7.0250243e-01],\n",
       "       [7.1893215e-01],\n",
       "       [6.9226795e-01]], dtype=float32)"
      ]
     },
     "metadata": {},
     "execution_count": 66
    }
   ],
   "metadata": {}
  },
  {
   "cell_type": "code",
   "execution_count": 17,
   "source": [
    "len(companyH_training_set)"
   ],
   "outputs": [
    {
     "output_type": "execute_result",
     "data": {
      "text/plain": [
       "1094"
      ]
     },
     "metadata": {},
     "execution_count": 17
    }
   ],
   "metadata": {}
  },
  {
   "cell_type": "code",
   "execution_count": 62,
   "source": [
    "trainlen = len(companyH_training_set)\n",
    "future = 1\n",
    "train = companyH_training_set.to_numpy()\n",
    "pred_training = esn.fit(np.ones(trainlen),train[:trainlen])"
   ],
   "outputs": [],
   "metadata": {}
  },
  {
   "cell_type": "code",
   "execution_count": 63,
   "source": [
    "prediction = esn.predict(np.ones(future))"
   ],
   "outputs": [],
   "metadata": {}
  },
  {
   "cell_type": "code",
   "execution_count": 64,
   "source": [
    "plt.figure(figsize=(16,8))\n",
    "companyH['Open'].plot()\n",
    "plt.plot(range(0,trainlen),train[0:trainlen],'b',label=\"Data\", alpha=0.3)\n",
    "#plt.plot(range(0,trainlen),pred_training,'.g',  alpha=0.3)\n",
    "plt.plot(range(trainlen,trainlen+future), pred_tot,'k',  alpha=0.8, label='Free Running ESN')\n",
    "\n",
    "lo,hi = plt.ylim()\n",
    "plt.plot([trainlen,trainlen],[lo+np.spacing(1),hi-np.spacing(1)],'k:', linewidth=4)\n",
    "\n",
    "plt.title(r'Ground Truth and Echo State Network Output', fontsize=25)\n",
    "plt.xlabel(r'Time', fontsize=20,labelpad=10)\n",
    "plt.ylabel(r'Price ($)', fontsize=20,labelpad=10)\n",
    "plt.legend(fontsize='xx-large', loc='best')\n",
    "sns.despine()"
   ],
   "outputs": [
    {
     "output_type": "display_data",
     "data": {
      "image/png": "[encoded data removed]",
      "text/plain": [
       "<Figure size 1152x576 with 1 Axes>"
      ]
     },
     "metadata": {
      "needs_background": "light"
     }
    }
   ],
   "metadata": {}
  },
  {
   "cell_type": "code",
   "execution_count": 65,
   "source": [
    "# prediction for the next day after learning the entire set\n",
    "prediction"
   ],
   "outputs": [
    {
     "output_type": "execute_result",
     "data": {
      "text/plain": [
       "array([[234.78575755]])"
      ]
     },
     "metadata": {},
     "execution_count": 65
    }
   ],
   "metadata": {}
  }
 ],
 "metadata": {
  "interpreter": {
   "hash": "51c71c982e2dd505736ec01ec8a5877554fd1a47337a8e86e6ccec18ae860355"
  },
  "kernelspec": {
   "name": "python3",
   "display_name": "Python 3.8.12 64-bit ('dotData1': conda)"
  },
  "language_info": {
   "codemirror_mode": {
    "name": "ipython",
    "version": 3
   },
   "file_extension": ".py",
   "mimetype": "text/x-python",
   "name": "python",
   "nbconvert_exporter": "python",
   "pygments_lexer": "ipython3",
   "version": "3.8.12"
  }
 },
 "nbformat": 4,
 "nbformat_minor": 2
}